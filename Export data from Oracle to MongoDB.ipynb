{
 "cells": [
  {
   "cell_type": "markdown",
   "metadata": {},
   "source": [
    "# Export data from Oracle to MongoDB\n",
    "It could be a good script as a starting point to export data from Oracle to MongoDB. It can be modified easily to add some row transformations (like combining columns) or other things.\n",
    "\n",
    "Tested with:\n",
    "* pymongo version: 3.4.0\n",
    "* cx_Oracle version: 6.0.2"
   ]
  },
  {
   "cell_type": "markdown",
   "metadata": {},
   "source": [
    "URLs interessants:\n",
    "* [PyMongo](http://api.mongodb.com/python/current/tutorial.html): Fast tutorial how pyMongo works.\n",
    "* [cx_Oracle](http://cx-oracle.readthedocs.io/en/latest/index.html): cx_Oracle is a module that enables access to Oracle Database and conforms to the Python database API specification.\n",
    "* [cx_Oracle querying best practices](http://www.oracle.com/technetwork/articles/dsl/prez-python-queries-101587.html): Oracle's best practices how to use cx_Oracle."
   ]
  },
  {
   "cell_type": "markdown",
   "metadata": {},
   "source": [
    "### Linux environment variables\n",
    "Before running the script, the following environtment variables must be set (to the correct folder, here it's just an example). If it's executed in Jupyter Notebook, run the exports before the `jupyter notebook` command:"
   ]
  },
  {
   "cell_type": "code",
   "execution_count": null,
   "metadata": {},
   "outputs": [],
   "source": [
    "\"\"\"\n",
    "export PATH=$PATH:$HOME/bin:/usr/lib/oracle/12.1/client64/bin\n",
    "export LD_LIBRARY_PATH=/usr/lib/oracle/12.1/client64/lib\n",
    "export ORACLE_HOME=/usr/lib/oracle/12.1/client64\n",
    "export TNS_ADMIN=$ORACLE_HOME/network/admin\n",
    "\"\"\""
   ]
  },
  {
   "cell_type": "markdown",
   "metadata": {},
   "source": [
    "---\n",
    "\n",
    "### Import libraries"
   ]
  },
  {
   "cell_type": "code",
   "execution_count": null,
   "metadata": {},
   "outputs": [],
   "source": [
    "import pymongo\n",
    "from pymongo import MongoClient\n",
    "from datetime import datetime, date\n",
    "from random import randint\n",
    "import cx_Oracle\n",
    "import re\n",
    "from datetime import datetime\n",
    "\n",
    "print('pymongo version: {v}'.format(v=pymongo.version))\n",
    "print('cx_Oracle version: {v}'.format(v=cx_Oracle.version))"
   ]
  },
  {
   "cell_type": "markdown",
   "metadata": {},
   "source": [
    "---\n",
    "### Create exportation's functions"
   ]
  },
  {
   "cell_type": "code",
   "execution_count": null,
   "metadata": {},
   "outputs": [],
   "source": [
    "def create_collection_if_not_exists(mongo_database: pymongo.database.Database, collection_name: str):\n",
    "    \"\"\"\n",
    "        Create a mongodb collection if it doesn't exist\n",
    "    \"\"\"\n",
    "    if collection_name in mongo_database.collection_names():\n",
    "        print('Collection \"{collection}\" already created'.format(collection=collection_name))\n",
    "    else:\n",
    "        mongo_database.create_collection(collection_name)\n",
    "        print('Created collection \"{c}\"'.format(c=collection_name))\n",
    "\n",
    "\n",
    "def export_data_from_oracle_to_mongodb(oracle_server: str, \n",
    "                                       oracle_port: int, \n",
    "                                       oracle_sid: str, \n",
    "                                       oracle_user: str, \n",
    "                                       oracle_password: str,\n",
    "                                       mongodb_connection_string: str, \n",
    "                                       mongodb_database: str, \n",
    "                                       mongodb_collection: str,\n",
    "                                       sql_query: str,\n",
    "                                       create_mongodb_collection_if_not_exist: bool=False,\n",
    "                                       num_rows_fetch: int=1000):\n",
    "    \"\"\"\n",
    "    Exports the data of a query from oracle to a mongodb collection    \n",
    "    Parameters:\n",
    "    -----------\n",
    "        - mongodb_connection_string: the connection string, without the database name\n",
    "            more info in: https://docs.mongodb.com/manual/reference/connection-string/\n",
    "        - sql_query: the query must not have a semi-colon \";\" at the end of the sentence!\n",
    "        - num_rows_fetch: 1000 is a good number to start with. If it's too small, it will \n",
    "            take longer because mongodb will need to do a lot of commits\n",
    "    \n",
    "    \"\"\"\n",
    "    # check all parameters (except create_mongodb_collection_if_not_exist and num_rows_fetch) are not None\n",
    "    if (oracle_server is None):\n",
    "        raise Exception('\"oracle_server\" parameter must be set')\n",
    "    if (oracle_port is None):\n",
    "        raise Exception('\"oracle_port\" parameter must be set')\n",
    "    if (oracle_sid is None):\n",
    "        raise Exception('\"oracle_sid\" parameter must be set')\n",
    "    if (oracle_user is None):\n",
    "        raise Exception('\"oracle_user\" parameter must be set')\n",
    "    if (oracle_password is None):\n",
    "        raise Exception('\"oracle_password\" parameter must be set')\n",
    "    if (mongodb_connection_string is None):\n",
    "        raise Exception('\"mongodb_connection_string\" parameter must be set')\n",
    "    if (mongodb_database is None):\n",
    "        raise Exception('\"mongodb_database\" parameter must be set')\n",
    "    if (mongodb_collection is None):\n",
    "        raise Exception('\"mongodb_collection\" parameter must be set')\n",
    "    if (sql_query is None):\n",
    "        raise Exception('\"sql_query\" parameter must be set')\n",
    "        \n",
    "    error_exception = None\n",
    "    \n",
    "    ## create connections\n",
    "    \n",
    "    # create oracle connection\n",
    "    try:        \n",
    "        dsn_tns = cx_Oracle.makedsn(oracle_server, oracle_port, oracle_sid)\n",
    "        oracle_conn = cx_Oracle.connect(oracle_user, oracle_password, dsn_tns)\n",
    "    except:\n",
    "        raise Exception(\"could not create a connection to Oracle database\")\n",
    "\n",
    "    # create mongodb connection\n",
    "    try:        \n",
    "        mongodb_client = MongoClient(mongodb_connection_string)\n",
    "        mongodb_db = mongodb_client.get_database(mongodb_database)\n",
    "        if create_mongodb_collection_if_not_exist:\n",
    "            create_collection_if_not_exists(mongodb_db, mongodb_collection)\n",
    "        collection = mongodb_db[mongodb_collection]        \n",
    "    except:\n",
    "        # if an error ocurred while creating the connection to mongodb, oracle connection would be already created\n",
    "        # we need to destroy it\n",
    "        if oracle_conn is not None:\n",
    "            oracle_conn.close()\n",
    "        if mongodb_client is not None:\n",
    "            mongodb_client.close()\n",
    "        raise Exception(\"could not create a connection to MongoDB server / database\")\n",
    "\n",
    "    ## exporting data\n",
    "    try:        \n",
    "        cursor = oracle_conn.cursor()\n",
    "        print ('executing the query in Oracle server...')\n",
    "        cursor.execute(sql_query)\n",
    "\n",
    "        # column names in lowercase because it's case sensitive\n",
    "        ora_column_names = [col[0].lower() for col in cursor.description]\n",
    "        \n",
    "        # export rows fetching 'num_rows_fetch' every time\n",
    "        print ('start exporting data...')\n",
    "        rows = cursor.fetchmany(num_rows_fetch)\n",
    "        while len(rows) > 0:\n",
    "            # convert rows to a list of dicts\n",
    "            mongo_rows = [dict(zip(ora_column_names, row)) for row in rows]\n",
    "            \n",
    "            ## if some row transformation is needed (like combining columns) it can be done here\n",
    "            \n",
    "            # insert into mongodb\n",
    "            collection.insert_many(mongo_rows)\n",
    "            # fetch next rows\n",
    "            rows = cursor.fetchmany(num_rows_fetch)\n",
    "            \n",
    "        print('successfully exported the data from Oracle to MongoDB')\n",
    "\n",
    "    except cx_Oracle.Error as error:\n",
    "        error_exception = error\n",
    "\n",
    "    finally:\n",
    "        cursor.close()\n",
    "        oracle_conn.close()\n",
    "        mongodb_client.close()\n",
    "\n",
    "    if error_exception:\n",
    "        raise(error_exception)\n"
   ]
  },
  {
   "cell_type": "markdown",
   "metadata": {},
   "source": [
    "---\n",
    "### Execute the exportation"
   ]
  },
  {
   "cell_type": "code",
   "execution_count": null,
   "metadata": {},
   "outputs": [],
   "source": [
    "# Configuration parameters\n",
    "ip = 'oracle_ip'\n",
    "port = PORT_NUMBER\n",
    "SID = 'ORACLE_SID'\n",
    "ora_user = 'username'\n",
    "ora_password = 'password'\n",
    "my_mongodb = 'mongodb://localhost:27017/'\n",
    "my_mongodb_db = 'mydb'\n",
    "my_mongodb_col = 'my_collection'\n",
    "\n",
    "consulta_sql = u\"\"\"SELECT * FROM DUAL\"\"\"\n",
    "\n",
    "export_data_from_oracle_to_mongodb(oracle_server=ip, \n",
    "                                   oracle_port=port, \n",
    "                                   oracle_sid=SID, \n",
    "                                   oracle_user=ora_user, \n",
    "                                   oracle_password=ora_password,\n",
    "                                   mongodb_connection_string=my_mongodb, \n",
    "                                   mongodb_database=my_mongodb_db, \n",
    "                                   mongodb_collection=my_mongodb_col,\n",
    "                                   create_mongodb_collection_if_not_exist=True,\n",
    "                                   sql_query=consulta_sql)    "
   ]
  },
  {
   "cell_type": "markdown",
   "metadata": {},
   "source": [
    "### Checking the data in MongoDB database"
   ]
  },
  {
   "cell_type": "code",
   "execution_count": null,
   "metadata": {},
   "outputs": [],
   "source": [
    "mongodb_client = MongoClient(my_mongodb)\n",
    "mongodb_db = mongodb_client.get_database(my_mongodb_db)\n",
    "\n",
    "print ('In collection {col} there are {count} documents'.\n",
    "       format(count=mongodb_db[my_mongodb_col].count(), col=my_mongodb_col))\n",
    "\n",
    "mongodb_client.close()"
   ]
  }
 ],
 "metadata": {
  "kernelspec": {
   "display_name": "Python 3",
   "language": "python",
   "name": "python3"
  },
  "language_info": {
   "codemirror_mode": {
    "name": "ipython",
    "version": 3
   },
   "file_extension": ".py",
   "mimetype": "text/x-python",
   "name": "python",
   "nbconvert_exporter": "python",
   "pygments_lexer": "ipython3",
   "version": "3.6.4"
  }
 },
 "nbformat": 4,
 "nbformat_minor": 2
}
