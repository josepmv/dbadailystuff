{
 "cells": [
  {
   "cell_type": "markdown",
   "metadata": {},
   "source": [
    "# percentage simple moving average compared against a composite index\n",
    "\n",
    "More information on this jupyter notebook can be found in [my blog](http://dbadailystuff.com/percentage-of-time-series-over-its-sma-simple-moving-average-compared-against-a-weighted-index)."
   ]
  },
  {
   "cell_type": "code",
   "execution_count": 1,
   "metadata": {},
   "outputs": [],
   "source": [
    "# IPython magic to create plots within cells\n",
    "%matplotlib inline"
   ]
  },
  {
   "cell_type": "markdown",
   "metadata": {},
   "source": [
    "#### Carreguem les llibreries que necessitem"
   ]
  },
  {
   "cell_type": "code",
   "execution_count": 2,
   "metadata": {},
   "outputs": [],
   "source": [
    "import pandas as pd\n",
    "import numpy as np\n",
    "import bqplot as bq\n",
    "\n",
    "from datetime import datetime"
   ]
  },
  {
   "cell_type": "code",
   "execution_count": 3,
   "metadata": {
    "scrolled": true
   },
   "outputs": [
    {
     "name": "stdout",
     "output_type": "stream",
     "text": [
      "pandas: 0.23.4\n",
      "bqplot: 0.11.1\n"
     ]
    }
   ],
   "source": [
    "print ('pandas: {v}'.format(v=pd.__version__))\n",
    "print ('bqplot: {v}'.format(v=bq.__version__))"
   ]
  },
  {
   "cell_type": "markdown",
   "metadata": {},
   "source": [
    "---"
   ]
  },
  {
   "cell_type": "markdown",
   "metadata": {},
   "source": [
    "## Read and explore the datasets\n",
    "\n",
    "#### Read all SP&500 components dataset\n",
    "\n",
    "Filename: `WIKI_PRICES_212b326a081eacca455e13140d7bb9db.csv`\n",
    "\n",
    "Column header:\n",
    "\n",
    "`ticker,date,open,high,low,close,volume,ex-dividend,split_ratio,adj_open,adj_high,adj_low,adj_close,adj_volume`\n",
    "\n",
    "Column example:\n",
    "\n",
    "`A,1999-11-18,45.5,50.0,40.0,44.0,44739900.0,0.0,1.0,31.041951216877,34.112034304261,27.289627443409,30.018590187749,44739900.0`\n",
    "\n",
    "Load the CSV file into a Pandas DataFrame. Use of `dtype` parameter to specify the type of each column:"
   ]
  },
  {
   "cell_type": "code",
   "execution_count": 4,
   "metadata": {},
   "outputs": [
    {
     "name": "stdout",
     "output_type": "stream",
     "text": [
      "CPU times: user 3min 17s, sys: 3.89 s, total: 3min 21s\n",
      "Wall time: 3min 18s\n"
     ]
    }
   ],
   "source": [
    "%%time\n",
    "prices_file = 'WIKI_PRICES_212b326a081eacca455e13140d7bb9db.csv'\n",
    "\n",
    "stocks = (pd.read_csv(prices_file, sep=',', header=0, index_col=1, \n",
    "                    parse_dates=['date'], date_parser=lambda dt: pd.datetime.strptime(dt, '%Y-%m-%d'),\n",
    "                    dtype={'ticker': str, 'open': np.float32, 'high': np.float32, 'low': np.float32, 'close': np.float32,\n",
    "                           'volume': np.float32, 'exdivident': np.float32, 'split_ratio': np.float32, \n",
    "                           'adj_open': np.float32, 'adj_high': np.float32, 'adj_low': np.float32, 'adj_close': np.float32,\n",
    "                           'adj_volume': np.float32 })\n",
    "         .sort_index())"
   ]
  },
  {
   "cell_type": "code",
   "execution_count": 5,
   "metadata": {
    "scrolled": true
   },
   "outputs": [
    {
     "data": {
      "text/html": [
       "<div>\n",
       "<style scoped>\n",
       "    .dataframe tbody tr th:only-of-type {\n",
       "        vertical-align: middle;\n",
       "    }\n",
       "\n",
       "    .dataframe tbody tr th {\n",
       "        vertical-align: top;\n",
       "    }\n",
       "\n",
       "    .dataframe thead th {\n",
       "        text-align: right;\n",
       "    }\n",
       "</style>\n",
       "<table border=\"1\" class=\"dataframe\">\n",
       "  <thead>\n",
       "    <tr style=\"text-align: right;\">\n",
       "      <th></th>\n",
       "      <th>ticker</th>\n",
       "      <th>open</th>\n",
       "      <th>high</th>\n",
       "      <th>low</th>\n",
       "      <th>close</th>\n",
       "      <th>volume</th>\n",
       "      <th>ex-dividend</th>\n",
       "      <th>split_ratio</th>\n",
       "      <th>adj_open</th>\n",
       "      <th>adj_high</th>\n",
       "      <th>adj_low</th>\n",
       "      <th>adj_close</th>\n",
       "      <th>adj_volume</th>\n",
       "    </tr>\n",
       "    <tr>\n",
       "      <th>date</th>\n",
       "      <th></th>\n",
       "      <th></th>\n",
       "      <th></th>\n",
       "      <th></th>\n",
       "      <th></th>\n",
       "      <th></th>\n",
       "      <th></th>\n",
       "      <th></th>\n",
       "      <th></th>\n",
       "      <th></th>\n",
       "      <th></th>\n",
       "      <th></th>\n",
       "      <th></th>\n",
       "    </tr>\n",
       "  </thead>\n",
       "  <tbody>\n",
       "    <tr>\n",
       "      <th>1962-01-02</th>\n",
       "      <td>ARNC</td>\n",
       "      <td>65.559998</td>\n",
       "      <td>65.75</td>\n",
       "      <td>65.379997</td>\n",
       "      <td>65.379997</td>\n",
       "      <td>5600.0</td>\n",
       "      <td>0.0</td>\n",
       "      <td>1.0</td>\n",
       "      <td>3.458163</td>\n",
       "      <td>3.468185</td>\n",
       "      <td>3.448668</td>\n",
       "      <td>3.448668</td>\n",
       "      <td>44800.0</td>\n",
       "    </tr>\n",
       "    <tr>\n",
       "      <th>1962-01-02</th>\n",
       "      <td>DD</td>\n",
       "      <td>241.500000</td>\n",
       "      <td>244.25</td>\n",
       "      <td>241.500000</td>\n",
       "      <td>241.500000</td>\n",
       "      <td>2000.0</td>\n",
       "      <td>0.0</td>\n",
       "      <td>1.0</td>\n",
       "      <td>4.718414</td>\n",
       "      <td>4.772143</td>\n",
       "      <td>4.718414</td>\n",
       "      <td>4.718414</td>\n",
       "      <td>36000.0</td>\n",
       "    </tr>\n",
       "    <tr>\n",
       "      <th>1962-01-02</th>\n",
       "      <td>GE</td>\n",
       "      <td>75.000000</td>\n",
       "      <td>76.25</td>\n",
       "      <td>74.250000</td>\n",
       "      <td>74.750000</td>\n",
       "      <td>21600.0</td>\n",
       "      <td>0.0</td>\n",
       "      <td>1.0</td>\n",
       "      <td>0.329505</td>\n",
       "      <td>0.334997</td>\n",
       "      <td>0.326210</td>\n",
       "      <td>0.328407</td>\n",
       "      <td>2073600.0</td>\n",
       "    </tr>\n",
       "  </tbody>\n",
       "</table>\n",
       "</div>"
      ],
      "text/plain": [
       "           ticker        open    high         low       close   volume  \\\n",
       "date                                                                     \n",
       "1962-01-02   ARNC   65.559998   65.75   65.379997   65.379997   5600.0   \n",
       "1962-01-02     DD  241.500000  244.25  241.500000  241.500000   2000.0   \n",
       "1962-01-02     GE   75.000000   76.25   74.250000   74.750000  21600.0   \n",
       "\n",
       "            ex-dividend  split_ratio  adj_open  adj_high   adj_low  adj_close  \\\n",
       "date                                                                            \n",
       "1962-01-02          0.0          1.0  3.458163  3.468185  3.448668   3.448668   \n",
       "1962-01-02          0.0          1.0  4.718414  4.772143  4.718414   4.718414   \n",
       "1962-01-02          0.0          1.0  0.329505  0.334997  0.326210   0.328407   \n",
       "\n",
       "            adj_volume  \n",
       "date                    \n",
       "1962-01-02     44800.0  \n",
       "1962-01-02     36000.0  \n",
       "1962-01-02   2073600.0  "
      ]
     },
     "execution_count": 5,
     "metadata": {},
     "output_type": "execute_result"
    }
   ],
   "source": [
    "stocks.head(3)"
   ]
  },
  {
   "cell_type": "code",
   "execution_count": 6,
   "metadata": {
    "scrolled": true
   },
   "outputs": [
    {
     "data": {
      "text/html": [
       "<div>\n",
       "<style scoped>\n",
       "    .dataframe tbody tr th:only-of-type {\n",
       "        vertical-align: middle;\n",
       "    }\n",
       "\n",
       "    .dataframe tbody tr th {\n",
       "        vertical-align: top;\n",
       "    }\n",
       "\n",
       "    .dataframe thead th {\n",
       "        text-align: right;\n",
       "    }\n",
       "</style>\n",
       "<table border=\"1\" class=\"dataframe\">\n",
       "  <thead>\n",
       "    <tr style=\"text-align: right;\">\n",
       "      <th></th>\n",
       "      <th>close</th>\n",
       "      <th>adj_close</th>\n",
       "    </tr>\n",
       "    <tr>\n",
       "      <th>date</th>\n",
       "      <th></th>\n",
       "      <th></th>\n",
       "    </tr>\n",
       "  </thead>\n",
       "  <tbody>\n",
       "    <tr>\n",
       "      <th>1980-12-12</th>\n",
       "      <td>28.75</td>\n",
       "      <td>0.422706</td>\n",
       "    </tr>\n",
       "    <tr>\n",
       "      <th>1980-12-15</th>\n",
       "      <td>27.25</td>\n",
       "      <td>0.400652</td>\n",
       "    </tr>\n",
       "    <tr>\n",
       "      <th>1980-12-16</th>\n",
       "      <td>25.25</td>\n",
       "      <td>0.371246</td>\n",
       "    </tr>\n",
       "  </tbody>\n",
       "</table>\n",
       "</div>"
      ],
      "text/plain": [
       "            close  adj_close\n",
       "date                        \n",
       "1980-12-12  28.75   0.422706\n",
       "1980-12-15  27.25   0.400652\n",
       "1980-12-16  25.25   0.371246"
      ]
     },
     "execution_count": 6,
     "metadata": {},
     "output_type": "execute_result"
    }
   ],
   "source": [
    "stocks.loc[stocks.ticker=='AAPL',['close', 'adj_close']].head(3)"
   ]
  },
  {
   "cell_type": "markdown",
   "metadata": {},
   "source": [
    "#### SP&500 index\n",
    "\n",
    "`Date, Open, High, Low, Close\n",
    "04/24/18, 2680.80, 2683.55, 2617.32, 2634.56\n",
    "04/23/18, 2675.40, 2682.86, 2657.99, 2670.29`"
   ]
  },
  {
   "cell_type": "code",
   "execution_count": 7,
   "metadata": {
    "scrolled": false
   },
   "outputs": [
    {
     "name": "stdout",
     "output_type": "stream",
     "text": [
      "CPU times: user 80.5 ms, sys: 11 µs, total: 80.5 ms\n",
      "Wall time: 79.3 ms\n"
     ]
    }
   ],
   "source": [
    "%%time\n",
    "sp500 = (pd.read_csv('HistoricalPrices_SP500.csv', sep=',', header=0, index_col=0, \n",
    "                    parse_dates=['Date'], date_parser=lambda dt: pd.datetime.strptime(dt, '%m/%d/%y'),\n",
    "                    dtype={' Open': np.float32, ' High': np.float32, ' Low': np.float32, ' Close': np.float32})\n",
    "         .sort_index())\n",
    "\n",
    "sp500 = sp500.rename(columns={' Open': 'open', ' High': 'high', ' Low': 'low', ' Close': 'close'})"
   ]
  },
  {
   "cell_type": "markdown",
   "metadata": {},
   "source": [
    "---\n",
    "\n",
    "### Prepare the datasets\n",
    "\n",
    "#### Adjust datasets to be on the same dates\n",
    "\n",
    "Both datasets don't start at the same time and they should for the plot. The components start earlier that the SP&500 dataset, so we make it start at the same time."
   ]
  },
  {
   "cell_type": "code",
   "execution_count": 8,
   "metadata": {
    "scrolled": false
   },
   "outputs": [
    {
     "data": {
      "text/plain": [
       "Timestamp('1993-04-05 00:00:00')"
      ]
     },
     "execution_count": 8,
     "metadata": {},
     "output_type": "execute_result"
    }
   ],
   "source": [
    "sp500.index.min()"
   ]
  },
  {
   "cell_type": "code",
   "execution_count": 9,
   "metadata": {
    "scrolled": true
   },
   "outputs": [
    {
     "data": {
      "text/plain": [
       "Timestamp('1962-01-02 00:00:00')"
      ]
     },
     "execution_count": 9,
     "metadata": {},
     "output_type": "execute_result"
    }
   ],
   "source": [
    "stocks.index.min()"
   ]
  },
  {
   "cell_type": "code",
   "execution_count": 10,
   "metadata": {},
   "outputs": [
    {
     "data": {
      "text/plain": [
       "Timestamp('1993-04-05 00:00:00')"
      ]
     },
     "execution_count": 10,
     "metadata": {},
     "output_type": "execute_result"
    }
   ],
   "source": [
    "stocks = stocks.loc[stocks.index >= sp500.index.min()]\n",
    "stocks.index.min()"
   ]
  },
  {
   "cell_type": "markdown",
   "metadata": {},
   "source": [
    "---\n",
    "\n",
    "#### Weekly\n",
    "\n",
    "Resample it to weekly and get just the adjustment close. This step is optional, the daily quotes could be used."
   ]
  },
  {
   "cell_type": "code",
   "execution_count": 11,
   "metadata": {
    "scrolled": true
   },
   "outputs": [
    {
     "data": {
      "text/html": [
       "<div>\n",
       "<style scoped>\n",
       "    .dataframe tbody tr th:only-of-type {\n",
       "        vertical-align: middle;\n",
       "    }\n",
       "\n",
       "    .dataframe tbody tr th {\n",
       "        vertical-align: top;\n",
       "    }\n",
       "\n",
       "    .dataframe thead th {\n",
       "        text-align: right;\n",
       "    }\n",
       "</style>\n",
       "<table border=\"1\" class=\"dataframe\">\n",
       "  <thead>\n",
       "    <tr style=\"text-align: right;\">\n",
       "      <th></th>\n",
       "      <th></th>\n",
       "      <th>adj_close</th>\n",
       "    </tr>\n",
       "    <tr>\n",
       "      <th>ticker</th>\n",
       "      <th>date</th>\n",
       "      <th></th>\n",
       "    </tr>\n",
       "  </thead>\n",
       "  <tbody>\n",
       "    <tr>\n",
       "      <th rowspan=\"5\" valign=\"top\">ZUMZ</th>\n",
       "      <th>2018-03-04</th>\n",
       "      <td>19.990000</td>\n",
       "    </tr>\n",
       "    <tr>\n",
       "      <th>2018-03-11</th>\n",
       "      <td>20.230000</td>\n",
       "    </tr>\n",
       "    <tr>\n",
       "      <th>2018-03-18</th>\n",
       "      <td>20.320000</td>\n",
       "    </tr>\n",
       "    <tr>\n",
       "      <th>2018-03-25</th>\n",
       "      <td>23.610001</td>\n",
       "    </tr>\n",
       "    <tr>\n",
       "      <th>2018-04-01</th>\n",
       "      <td>24.125000</td>\n",
       "    </tr>\n",
       "  </tbody>\n",
       "</table>\n",
       "</div>"
      ],
      "text/plain": [
       "                   adj_close\n",
       "ticker date                 \n",
       "ZUMZ   2018-03-04  19.990000\n",
       "       2018-03-11  20.230000\n",
       "       2018-03-18  20.320000\n",
       "       2018-03-25  23.610001\n",
       "       2018-04-01  24.125000"
      ]
     },
     "execution_count": 11,
     "metadata": {},
     "output_type": "execute_result"
    }
   ],
   "source": [
    "stocks_week = (stocks.groupby(['ticker'])\n",
    "               .resample('W')\n",
    "               .mean()\n",
    "               .adj_close\n",
    "               .to_frame())\n",
    "\n",
    "stocks_week.tail()"
   ]
  },
  {
   "cell_type": "markdown",
   "metadata": {},
   "source": [
    "## Percentage of stocks over the SMA (Simple Moving Average):\n",
    "\n"
   ]
  },
  {
   "cell_type": "code",
   "execution_count": 12,
   "metadata": {},
   "outputs": [],
   "source": [
    "def percentage_series_over_sma(df: pd.DataFrame, shift: int, column_name: str):\n",
    "    '''\n",
    "        Percentage of stocks over the SMA (Simple Moving Average)\n",
    "        \n",
    "        parameters:\n",
    "        - df: Pandas DataFrame\n",
    "        - shift: the number of rows to shift. \n",
    "                    example:If the DataFrame is in weeks, and shift is 30, it means de SMA of 30 days.\n",
    "        - column_name: column name to be used to calculate the SMA.\n",
    "    '''\n",
    "    if len(df.index.names) != 2:\n",
    "        raise Exception('index must be made of two columns: grouped_field + datetime')\n",
    "    # second column must be a datetime column!\n",
    "    \n",
    "    groupby_column = df.index.names[0]\n",
    "    date_column = df.index.names[1]\n",
    "    \n",
    "    df['sma'] = df[column_name].rolling(shift).mean()\n",
    "    df['over_sma'] = np.where(df[column_name] > df['sma'], 1, 0)\n",
    "    d = df.reset_index().groupby([date_column])\n",
    "    \n",
    "    return (d.over_sma.sum().to_frame() / d.over_sma.count().to_frame())"
   ]
  },
  {
   "cell_type": "markdown",
   "metadata": {},
   "source": [
    "#### Percentatge com stocks over 30 weeks SMA"
   ]
  },
  {
   "cell_type": "code",
   "execution_count": 13,
   "metadata": {
    "scrolled": true
   },
   "outputs": [],
   "source": [
    "df = percentage_series_over_sma(stocks_week, 30, 'adj_close')"
   ]
  },
  {
   "cell_type": "markdown",
   "metadata": {},
   "source": [
    "---\n",
    "\n",
    "# Plot the percentage of stocks over the 30 weeks SMA and the SP&500\n",
    "\n",
    "The SP&500 is plotted using a log scale while the percentage is a linear scale. The log scale is better to see percentage movements and in our case it allows us to compare it better with the number of stocks over the 30 weeks SMA.\n",
    "\n",
    "Both lines, the SP%500 and the percentage over SMA, have a SMA of 30 (weeks) applied on them. To soften the lines."
   ]
  },
  {
   "cell_type": "code",
   "execution_count": 14,
   "metadata": {
    "scrolled": false
   },
   "outputs": [
    {
     "data": {
      "application/vnd.jupyter.widget-view+json": {
       "model_id": "164c1b0013a547b196db97961f8b2d14",
       "version_major": 2,
       "version_minor": 0
      },
      "text/plain": [
       "Figure(axes=[Axis(color='blue', label='percentage over SMA', label_color='blue', orientation='vertical', scale…"
      ]
     },
     "metadata": {},
     "output_type": "display_data"
    }
   ],
   "source": [
    "sc_x = bq.DateScale()\n",
    "sc_y_sma = bq.LinearScale()\n",
    "sc_y_sp500 = bq.LogScale()\n",
    "\n",
    "ax_x = bq.Axis(scale=sc_x)\n",
    "ax_y_sma = bq.Axis(scale=sc_y_sma, orientation='vertical', side='right', label='percentage over SMA', color='blue',\n",
    "                    label_color='blue')\n",
    "ax_y_sp500 = bq.Axis(scale=sc_y_sp500, orientation='vertical', label='SP&500 (log scale)', tick_format='0.0f', color='orange',\n",
    "                    label_color='orange')\n",
    "\n",
    "line_perc_over_sma = bq.Lines(x=df.index, y=df.over_sma.rolling(30).mean(), scales={'x': sc_x, 'y': sc_y_sma}, colors=['blue'],\n",
    "                   display_legend=False, labels=['percentage over SMA'])\n",
    "line_sp500 = bq.Lines(x=sp500.index, y=sp500.close.rolling(30).mean(), scales={'x': sc_x, 'y': sc_y_sp500}, \n",
    "                     colors=['orange'], display_legend=False, labels=['SP&500 (log scale)'])\n",
    "\n",
    "bq.Figure(marks=[line_sp500, line_perc_over_sma], axes=[ax_y_sma, ax_y_sp500, ax_x])"
   ]
  },
  {
   "cell_type": "markdown",
   "metadata": {},
   "source": [
    "---"
   ]
  }
 ],
 "metadata": {
  "kernelspec": {
   "display_name": "Python 3",
   "language": "python",
   "name": "python3"
  },
  "language_info": {
   "codemirror_mode": {
    "name": "ipython",
    "version": 3
   },
   "file_extension": ".py",
   "mimetype": "text/x-python",
   "name": "python",
   "nbconvert_exporter": "python",
   "pygments_lexer": "ipython3",
   "version": "3.6.6"
  }
 },
 "nbformat": 4,
 "nbformat_minor": 2
}
